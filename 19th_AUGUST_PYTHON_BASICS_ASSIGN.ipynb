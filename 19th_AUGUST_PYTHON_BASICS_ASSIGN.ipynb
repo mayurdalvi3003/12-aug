{
 "cells": [
  {
   "cell_type": "markdown",
   "id": "2cfa332a",
   "metadata": {},
   "source": [
    "1. Declare two variables, `x` and `y`, and assign them integer values. Swap the values of these variables\n",
    "without using any temporary variable.\n"
   ]
  },
  {
   "cell_type": "code",
   "execution_count": 3,
   "id": "91963ece",
   "metadata": {},
   "outputs": [
    {
     "name": "stdout",
     "output_type": "stream",
     "text": [
      "After swapping the variables i got the solution which is given below : \n",
      "the value of x is 20\n",
      "the value of y is 10\n"
     ]
    }
   ],
   "source": [
    "#declaration two varibles x and y and assigned the value 10 & 20 respectively .\n",
    "x = 10\n",
    "y = 20\n",
    "\n",
    "x = x +y # the value of x became 30 i.e x = 30\n",
    "y = x-y  # now here , while calulating value of y take the latest value of x i.e x = 30 , y = 30-20 = 10.....y =10\n",
    "x = x-y # now here take updated value of x and y i.e 30 and 10 respectively , x = 30-10 = 20 ................x = 20\n",
    "print(\"After swapping the variables i got the solution which is given below : \")\n",
    "print(\"the value of x is\" , x) # print the swapped value of x i.e x = 20 \n",
    "print(\"the value of y is\" , y) # print the swapped value of y i.e y = 10\n"
   ]
  },
  {
   "cell_type": "markdown",
   "id": "41e48c16",
   "metadata": {},
   "source": [
    "2. Create a program that calculates the area of a rectangle. Take the length and width as inputs from the\n",
    "user and store them in variables. Calculate and display the area.\n"
   ]
  },
  {
   "cell_type": "code",
   "execution_count": 4,
   "id": "8280839f",
   "metadata": {},
   "outputs": [
    {
     "name": "stdout",
     "output_type": "stream",
     "text": [
      "Enter the length of the rectangle : 10\n",
      "Enter the width of the rectangle : 20\n",
      "The area of the rectangle is  200.0\n"
     ]
    }
   ],
   "source": [
    "length = float(input(\"Enter the length of the rectangle : \")) # take length as a input from the user and stored in varible length\n",
    "width = float(input(\"Enter the width of the rectangle : \")) # take width as a input from the user and stored in variable width\n",
    "area = length * width # formula for calculate area of the rectangle \n",
    "print(\"The area of the rectangle is \" , area) # here i have printed the area of rectangle "
   ]
  },
  {
   "cell_type": "markdown",
   "id": "3064be75",
   "metadata": {},
   "source": [
    "3. Write a Python program that converts temperatures from Celsius to Fahrenheit. Take the temperature\n",
    "in Celsius as input, store it in a variable, convert it to Fahrenheit, and display the result.\n"
   ]
  },
  {
   "cell_type": "code",
   "execution_count": 5,
   "id": "aa03db67",
   "metadata": {},
   "outputs": [
    {
     "name": "stdout",
     "output_type": "stream",
     "text": [
      "Enter the Temperature in celcius : 30.20\n",
      "The temperature in Fahrenheit is : 86.36\n"
     ]
    }
   ],
   "source": [
    "temp_in_celcius = float(input(\"Enter the Temperature in celcius : \")) # take temp in celcius as a input \n",
    "temp_in_Fahrenheit = temp_in_celcius *9/5+32 # formula for convert temp in celcius to temp in fahrenheit \n",
    "print(\"The temperature in Fahrenheit is :\" ,temp_in_Fahrenheit ) # printed the temp in Fahrenheit"
   ]
  },
  {
   "cell_type": "markdown",
   "id": "f586c577",
   "metadata": {},
   "source": [
    "String based questions: \n",
    "1.Write a Python program that takes a string as input and prints the length of the string.\n"
   ]
  },
  {
   "cell_type": "code",
   "execution_count": 6,
   "id": "543f2569",
   "metadata": {},
   "outputs": [
    {
     "name": "stdout",
     "output_type": "stream",
     "text": [
      "Enter any string as a input : mayur\n",
      "The length of the string is :  5\n"
     ]
    }
   ],
   "source": [
    "a = input(\"Enter any string as a input : \") # here i have taken a string as a input and stored in variable a \n",
    "print(\"The length of the string is : \" , len(a)) # here , by using len() function , i have printed the length of the string "
   ]
  },
  {
   "cell_type": "markdown",
   "id": "d8e7d709",
   "metadata": {},
   "source": [
    "2. Create a program that takes a sentence from the user and counts the number of vowels (a, e, i, o, u) in\n",
    "the string"
   ]
  },
  {
   "cell_type": "code",
   "execution_count": 7,
   "id": "3328434f",
   "metadata": {},
   "outputs": [
    {
     "name": "stdout",
     "output_type": "stream",
     "text": [
      "Enter any sentence : My Name Is Mayur Santosh Dalvi\n",
      "The lower string is :  my name is mayur santosh dalvi\n",
      "The number of vovels in the given sentence is : 9\n"
     ]
    }
   ],
   "source": [
    "sentence = input(\"Enter any sentence : \") #take any sentence as a input from the user \n",
    "lower_string = sentence.lower() # i've converted the input string into the lowercase because i have to count vovels in lower case \n",
    "print(\"The lower string is : \",lower_string) # print the lower string \n",
    "vovel_count = 0 # initially the value of vovel_count is 0\n",
    "list1 =[\"a\",\"e\",\"i\",\"o\",\"u\"] # here i made a list for all lowercase vovels\n",
    "for char in lower_string : # here i'm passing lower_string to the char and after added if else condition\n",
    "    if char in list1: # if that char elements in list1 then i can increament inn vovel_count\n",
    "        vovel_count = vovel_count+1\n",
    "print(\"The number of vovels in the given sentence is :\" , vovel_count) # print the vovel _count "
   ]
  },
  {
   "cell_type": "markdown",
   "id": "b84bfe6b",
   "metadata": {},
   "source": [
    "3. Given a string, reverse the order of characters using string slicing and print the reversed string.\n"
   ]
  },
  {
   "cell_type": "code",
   "execution_count": 8,
   "id": "37cc9a72",
   "metadata": {},
   "outputs": [
    {
     "name": "stdout",
     "output_type": "stream",
     "text": [
      "Enter any string : PWSKILSS\n",
      "The reverse string is  SSLIKSWP\n"
     ]
    }
   ],
   "source": [
    "string = input(\"Enter any string : \") # take input as a string from the user \n",
    "reverse_string = string[::-1] # here i did slicing for the reverse string \n",
    "print(\"The reverse string is \" , reverse_string) # print the reverse string "
   ]
  },
  {
   "cell_type": "markdown",
   "id": "e69008a7",
   "metadata": {},
   "source": [
    "4. Write a program that takes a string as input and checks if it is a palindrome (reads the same forwards\n",
    "and backwards).\n"
   ]
  },
  {
   "cell_type": "code",
   "execution_count": 9,
   "id": "e26ee310",
   "metadata": {},
   "outputs": [
    {
     "name": "stdout",
     "output_type": "stream",
     "text": [
      "Enter any string : madam\n",
      "The reverse string is :  madam\n",
      "The string is palindrome \n"
     ]
    }
   ],
   "source": [
    "s1 = input(\"Enter any string : \") # take a input as a string from the user \n",
    "rev_str = s1[::-1] # reverse the string using slicing \n",
    "print(\"The reverse string is : \" , rev_str) # print the reverse string \n",
    "\n",
    "if s1 == rev_str: # if input string(s1) is completely matching the revese string (rev_str)element  ,then i can tell it's palindrome\n",
    "    print(\"The string is palindrome \") \n",
    "else : # if s1 is not matching with the rev_str then i can tell it's not palindrome\n",
    "    print(\"The string is not palindrome \")\n",
    "    "
   ]
  },
  {
   "cell_type": "markdown",
   "id": "ef4fd74c",
   "metadata": {},
   "source": [
    "5. Create a program that takes a string as input and removes all the spaces from it. Print the modified\n",
    "string without spaces"
   ]
  },
  {
   "cell_type": "code",
   "execution_count": 10,
   "id": "dab1728a",
   "metadata": {},
   "outputs": [
    {
     "name": "stdout",
     "output_type": "stream",
     "text": [
      "Enter any string which you want : i am doing the study of data science \n",
      "The modified version of the string is  iamdoingthestudyofdatascience\n"
     ]
    }
   ],
   "source": [
    "s2 = input(\"Enter any string which you want : \") # take input as a string from the user \n",
    "new_string = s2.replace(\" \",\"\") # here i used .replace() function to replace spaces with the no space \n",
    "print(\"The modified version of the string is \" , new_string ) # print the modified string over here \n"
   ]
  },
  {
   "cell_type": "code",
   "execution_count": null,
   "id": "69d74214",
   "metadata": {},
   "outputs": [],
   "source": []
  }
 ],
 "metadata": {
  "kernelspec": {
   "display_name": "Python 3 (ipykernel)",
   "language": "python",
   "name": "python3"
  },
  "language_info": {
   "codemirror_mode": {
    "name": "ipython",
    "version": 3
   },
   "file_extension": ".py",
   "mimetype": "text/x-python",
   "name": "python",
   "nbconvert_exporter": "python",
   "pygments_lexer": "ipython3",
   "version": "3.11.1"
  }
 },
 "nbformat": 4,
 "nbformat_minor": 5
}
